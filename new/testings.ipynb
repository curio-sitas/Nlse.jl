{
 "cells": [
  {
   "cell_type": "code",
   "execution_count": 18,
   "metadata": {},
   "outputs": [
    {
     "name": "stderr",
     "output_type": "stream",
     "text": [
      "WARNING: replacing module FiberNlse.\n"
     ]
    },
    {
     "data": {
      "text/plain": [
       "Main.FiberNlse"
      ]
     },
     "metadata": {},
     "output_type": "display_data"
    }
   ],
   "source": [
    "using Revise\n",
    "include(\"FiberNlse.jl\")"
   ]
  },
  {
   "cell_type": "code",
   "execution_count": 19,
   "metadata": {},
   "outputs": [],
   "source": [
    "using .FiberNlse"
   ]
  },
  {
   "cell_type": "code",
   "execution_count": 25,
   "metadata": {},
   "outputs": [
    {
     "ename": "MethodError",
     "evalue": "MethodError: no method matching propagate(::Vector{ComplexF64}, ::Main.FiberNlse.WaveGuide, ::Float64, ::Int64, ::Main.FiberNlse.NlseOptions)\n\nClosest candidates are:\n  propagate(!Matched::AbstractArray{Number}, ::Main.FiberNlse.WaveGuide, ::Real, ::Int64, ::Main.FiberNlse.NlseOptions)\n   @ Main.FiberNlse c:\\Users\\brian\\.julia\\dev\\FiberNlse\\new\\FiberNlse.jl:152\n",
     "output_type": "error",
     "traceback": [
      "MethodError: no method matching propagate(::Vector{ComplexF64}, ::Main.FiberNlse.WaveGuide, ::Float64, ::Int64, ::Main.FiberNlse.NlseOptions)\n",
      "\n",
      "Closest candidates are:\n",
      "  propagate(!Matched::AbstractArray{Number}, ::Main.FiberNlse.WaveGuide, ::Real, ::Int64, ::Main.FiberNlse.NlseOptions)\n",
      "   @ Main.FiberNlse c:\\Users\\brian\\.julia\\dev\\FiberNlse\\new\\FiberNlse.jl:152\n",
      "\n",
      "\n",
      "Stacktrace:\n",
      " [1] top-level scope\n",
      "   @ c:\\Users\\brian\\.julia\\dev\\FiberNlse\\new\\testings.ipynb:8"
     ]
    }
   ],
   "source": [
    "\n",
    "\n",
    "wg = FiberNlse.smf28(5e3, 1.55e-6)\n",
    "#model = generate_model(fib)\n",
    "sig = [cis(1.0)]\n",
    "T = 0.1\n",
    "N = 2^8\n",
    "sol = FiberNlse.propagate(sig, wg, T, N, FiberNlse.NlseOptions(true,true, true, true))"
   ]
  },
  {
   "cell_type": "code",
   "execution_count": null,
   "metadata": {},
   "outputs": [],
   "source": []
  }
 ],
 "metadata": {
  "kernelspec": {
   "display_name": "Julia 1.10.4",
   "language": "julia",
   "name": "julia-1.10"
  },
  "language_info": {
   "file_extension": ".jl",
   "mimetype": "application/julia",
   "name": "julia",
   "version": "1.10.4"
  }
 },
 "nbformat": 4,
 "nbformat_minor": 2
}
